{
 "cells": [
  {
   "cell_type": "code",
   "execution_count": 1,
   "metadata": {},
   "outputs": [],
   "source": [
    "import os\n",
    "os.chdir('/home/evgenii/work/itmo/DroneRescue')\n",
    "import numpy as np\n",
    "from agent.llm_agent import LLMAgent\n",
    "from environment.environment import Environment\n",
    "from environment.constants import OBSTACLE_MAP, OBJECT_MAP, COLOR_MAP"
   ]
  },
  {
   "cell_type": "code",
   "execution_count": 2,
   "metadata": {},
   "outputs": [],
   "source": [
    "AREA_SIZE = (100, 100)\n",
    "NUM_TARGETS = 3\n",
    "NUM_OBSTACLES = 50\n",
    "OBSERVATION_AREA = (9,9)\n",
    "\n",
    "import os\n",
    "api_key = os.getenv(\"OPENAI_API_KEY\")\n",
    "agent = LLMAgent(area_size=AREA_SIZE, object_map=OBJECT_MAP, observation_area=OBSERVATION_AREA, api_key=api_key, chat_gpt_model=\"gpt-4o-2024-08-06\")"
   ]
  },
  {
   "cell_type": "code",
   "execution_count": 3,
   "metadata": {},
   "outputs": [
    {
     "name": "stdout",
     "output_type": "stream",
     "text": [
      "Step 0: 3. Explainataion: The drone is currently at the top-left corner of the observation area. No obstacles or target points are visible within the current observation area. The best course of action is to move right to explore further and potentially find the target or more unvisited cells.\n",
      "Step 1: 1. Explainataion: The drone's current position is at the top row, and moving down will allow the drone to explore unvisited areas below while avoiding obstacles.\n",
      "Step 2: 3. Explainataion: The current position of the drone is marked by '4' in the observation grid. The immediate surroundings in the observation grid are filled with '0', indicating background. This means there are no obstacles around the current position. The drone should move right or down to explore new areas, but let's choose to move right first to maximize the exploration in that direction.\n",
      "Step 3: 3. Explainataion: The drone is currently positioned at the center of the observation grid. Since there are no obstacles or target points in the immediate vicinity, and the surrounding area is unvisited, the most strategic move is to go towards an unvisited area to maximize exploration. Moving right will lead the agent into an unvisited area.\n",
      "Step 4: 4. Explainataion: The drone is currently surrounded by all background (0) cells in the observation area, with no obstacles or target points in sight. Since there is no immediate danger or target, the drone can stay in place and wait for further instructions or observations.\n",
      "Step 5: 0. Explainataion: The drone is currently positioned at the center of the observation grid, and the surrounding area is clear of obstacles. Since all neighboring cells are unexplored (marked as 3 in the visited map), moving in any direction could potentially be beneficial. However, without specific information pointing to a more strategic direction, moving up is a reasonable choice to start exploring new areas.\n",
      "Step 6: 3. Explainataion: The drone is currently surrounded by background cells and has no immediate target or obstacles in sight. Moving right could potentially reveal new areas, as the right side seems to be entirely unexplored based on the observation. This optimizes the exploration process.\n",
      "Step 7: 4. Explainataion: The drone is currently located in the middle of the observation area and is surrounded by background cells (0s). Since there are no visible unvisited areas (3) or target points (2) in the current observation, the best course of action is to stay in place to allow for more information gathering or wait for a clearer path.\n",
      "Step 8: 3. Explainataion: The drone is surrounded by background cells (0) and is currently placed at position (4, 4) in the observation grid. To explore new areas, the drone should move right (action 3) towards unvisited areas (3) in the map.\n",
      "Step 9: 3. Explainataion: The drone is currently positioned in the center of the observation area, surrounded by background (0). Given the absence of any obstacles (1) or target point (2) in the immediate vicinity, the best course of action is to explore the unvisited areas (3). Moving right could be a logical first step to explore more of the map.\n"
     ]
    }
   ],
   "source": [
    "agent_position = (0,0)\n",
    "env = Environment(obstacles_map=OBSTACLE_MAP,\n",
    "                color_map=COLOR_MAP,\n",
    "                object_map=OBJECT_MAP,\n",
    "                area_size=AREA_SIZE,\n",
    "                num_targets=NUM_TARGETS,\n",
    "                num_obstacles=NUM_OBSTACLES\n",
    "                )\n",
    "observation_area_of_agent = agent.observation_area\n",
    "new_position, done, observation, obs_binary_mask, metadata = env.step(4, agent_position, observation_area_of_agent)\n",
    "agent_position = new_position\n",
    "env.render_env('./exp_1/environment.jpg')\n",
    "\n",
    "# Update visited map\n",
    "agent.update_visited_map(observation, obs_binary_mask)\n",
    "\n",
    "# Add current agent position to the visited map\n",
    "visited_map_wiht_cut_agent_position = agent.visited_map\n",
    "visited_map_wiht_cut_agent_position[agent_position] = 4 \n",
    "\n",
    "# Add current agent position to the local observation\n",
    "observation_with_cur_agent_position = observation.copy()\n",
    "observation_with_cur_agent_position[metadata[\"agent_position_in_local_observation\"]] = 4 \n",
    "\n",
    "\n",
    "for step in range(10):\n",
    "    # print(visited_map_wiht_cut_agent_position)\n",
    "    response = agent.generate_action_by_model(visited_map_wiht_cut_agent_position, observation_with_cur_agent_position)\n",
    "    action = response[\"action\"]\n",
    "    explaination = response[\"explaination\"]\n",
    "    print(f\"Step {step}: {action}. Explainataion: {explaination}\")\n",
    "\n",
    "    new_position, done, observation, obs_binary_mask, metadata = env.step(action, agent_position, observation_area_of_agent)\n",
    "    agent_position = new_position\n",
    "\n",
    "    # Update visited map\n",
    "    agent.update_visited_map(observation, obs_binary_mask)\n",
    "\n",
    "    # Add current agent position to the visited map\n",
    "    visited_map_wiht_cut_agent_position = agent.visited_map\n",
    "    visited_map_wiht_cut_agent_position[agent_position] = 4 \n",
    "\n",
    "    # Add current agent position to the local observation\n",
    "    observation_with_cur_agent_position = observation.copy()\n",
    "    observation_with_cur_agent_position[metadata[\"agent_position_in_local_observation\"]] = 4 \n",
    "\n",
    "    env.render_visited_map(visited_map_wiht_cut_agent_position, f'./exp_1/visited_map_{step}.jpg')\n",
    "    env.render_observation(observation_with_cur_agent_position, f'./exp_1/observation_{step}.jpg')"
   ]
  },
  {
   "cell_type": "code",
   "execution_count": 19,
   "metadata": {},
   "outputs": [
    {
     "data": {
      "text/plain": [
       "'The current observation shows that the entire top half of the observation area contains obstacles (1s). The bottom half of the observation area is clear (0s), indicating a possible path. Moving down will allow the drone to explore this unvisited area.'"
      ]
     },
     "execution_count": 19,
     "metadata": {},
     "output_type": "execute_result"
    }
   ],
   "source": [
    "response[\"explanaition\"]"
   ]
  },
  {
   "cell_type": "code",
   "execution_count": null,
   "metadata": {},
   "outputs": [
    {
     "ename": "SyntaxError",
     "evalue": "incomplete input (3866867020.py, line 1)",
     "output_type": "error",
     "traceback": [
      "\u001b[0;36m  Cell \u001b[0;32mIn[20], line 1\u001b[0;36m\u001b[0m\n\u001b[0;31m    \"\"\"'The current observation shows that the entire\u001b[0m\n\u001b[0m    ^\u001b[0m\n\u001b[0;31mSyntaxError\u001b[0m\u001b[0;31m:\u001b[0m incomplete input\n"
     ]
    }
   ],
   "source": [
    "\"\"\"'The current observation shows that the entire\n",
    " top half of the observation area \n",
    " contains obstacles (1s). The bottom\n",
    "   half of the observation area is \n",
    "   clear (0s), indicating a possible \n",
    "   path. Moving down will allow the drone to\n",
    "     explore this unvisited area.'\n",
    "     \"\"\""
   ]
  }
 ],
 "metadata": {
  "kernelspec": {
   "display_name": "venv",
   "language": "python",
   "name": "python3"
  },
  "language_info": {
   "codemirror_mode": {
    "name": "ipython",
    "version": 3
   },
   "file_extension": ".py",
   "mimetype": "text/x-python",
   "name": "python",
   "nbconvert_exporter": "python",
   "pygments_lexer": "ipython3",
   "version": "3.10.12"
  }
 },
 "nbformat": 4,
 "nbformat_minor": 2
}
