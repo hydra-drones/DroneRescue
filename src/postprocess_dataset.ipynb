{
 "cells": [
  {
   "cell_type": "code",
   "execution_count": 4,
   "id": "c3924f0a",
   "metadata": {},
   "outputs": [],
   "source": [
    "import json\n",
    "from pathlib import Path\n",
    "\n",
    "PATH_TO_DATASET = './dataset'"
   ]
  },
  {
   "cell_type": "code",
   "execution_count": 5,
   "id": "9e4e52d0",
   "metadata": {},
   "outputs": [],
   "source": [
    "for path in Path(PATH_TO_DATASET).rglob('*.json'):\n",
    "    with open(path, 'r', encoding='utf-8') as f:\n",
    "        data = json.load(f)"
   ]
  },
  {
   "cell_type": "code",
   "execution_count": 8,
   "id": "0647c808",
   "metadata": {},
   "outputs": [],
   "source": [
    "def process_datasample(datasample):\n",
    "    for key, value in datasample.items():\n",
    "        print(f\"{key}: {value}\")"
   ]
  },
  {
   "cell_type": "code",
   "execution_count": null,
   "id": "1f0a5449",
   "metadata": {},
   "outputs": [
    {
     "name": "stdout",
     "output_type": "stream",
     "text": [
      "dict_keys(['role', 'mission', 'messages_from_agents', 'sended_messages', 'positions', 'mission_progress', 'target_in_fov', 'latest_agents_information', 'actions', 'global_strategy', 'local_strategy', 'special_actions'])\n",
      "{'10': [{'sender_id': 2, 'message': 'No targets within operational range.', 'type': 'info'}, {'sender_id': 3, 'message': 'Scout 1 — redeploy northward. Prioritize systematic visual sweep of northern-central and northeast sectors.\\nRescuer 2 — maintain current position. Deploy only upon confirmed contact from Scout.', 'type': 'order'}], '40': [{'sender_id': 2, 'message': 'No targets within current visual range.', 'type': 'info'}, {'sender_id': 3, 'message': 'Rescuer 2 — proceed to coordinates (63, 44) and (72, 56). Secure and extract both confirmed targets.\\nScout 1 — continue advancing northward. Maintain broad sweep pattern to extend visual range.', 'type': 'order'}], '70': [{'sender_id': 2, 'message': 'Reached confirmed target at coordinates (72, 56). Extraction initiated.', 'type': 'info'}, {'sender_id': 3, 'message': 'Scout 1 — continue advancing northward. Maintain sensor sweep; confirm any new contacts.\\nRescuer 2 — after extraction at (72, 56), proceed immediately to (63, 44) for secondary recovery.', 'type': 'order'}], '90': [{'sender_id': 3, 'message': 'Scout 1 — redeploy westward. Sweep western and central-north sectors.', 'type': 'order'}], '115': [{'sender_id': 2, 'message': 'Arrived at target location (63, 44).', 'type': 'info'}, {'sender_id': 3, 'message': 'Scout 1 — continue sweep to southwest sector. Maintain visual vigilance.\\nRescuer 2 — hold position after current extraction. Await further instructions.', 'type': 'order'}], '135': [{'sender_id': 3, 'message': 'Scout 1 — redirect course to eastern sector. Initiate sweep from central-east to northeast.\\nRescuer 2 — maintain hold. No change in orders.', 'type': 'order'}], '185': [{'sender_id': 2, 'message': 'Standing by at last extraction point.', 'type': 'info'}, {'sender_id': 3, 'message': 'Scout 1 — return to base. Recon mission complete.\\nRescuer 2 — proceed to (81, 15). Execute final extraction.', 'type': 'order'}], '235': [{'sender_id': 3, 'message': 'Rescuer 2 — confirm: is final target at (81, 15) secured and extraction complete?\\nScout 1 — maintain return trajectory. Confirm once base is reached.\\nAll units — hold position pending final verification.', 'type': 'order'}], '262': [{'sender_id': 2, 'message': 'Final target at (81, 15) confirmed and secured. Extraction complete.', 'type': 'info'}, {'sender_id': 3, 'message': 'Rescuer 2  — RTB immediately. All phases complete.\\nScout 1 — maintain base position. Debrief to follow.', 'type': 'order'}], '274': [{'sender_id': 3, 'message': 'Commander has arrived at base. Systems stable.\\nAll units to confirm status and proceed to full consolidation.', 'type': 'info'}], '353': [{'sender_id': 2, 'message': 'Base reached. Final return confirmed.', 'type': 'info'}]}\n",
      "\n",
      "\n",
      "dict_keys(['role', 'mission', 'messages_from_agents', 'sended_messages', 'positions', 'mission_progress', 'target_in_fov', 'latest_agents_information', 'actions', 'global_strategy', 'local_strategy', 'special_actions'])\n",
      "{'10': [{'sender_id': 1, 'message': 'No targets detected within current visual range.', 'type': 'info'}, {'sender_id': 3, 'message': 'Scout 1 — redeploy northward. Prioritize systematic visual sweep of northern-central and northeast sectors.\\nRescuer 2 — maintain current position. Deploy only upon confirmed contact from Scout.', 'type': 'order'}], '40': [{'sender_id': 1, 'message': 'Two targets visually confirmed at (63, 44) and (72, 56).', 'type': 'info'}, {'sender_id': 3, 'message': 'Rescuer 2 — proceed to coordinates (63, 44) and (72, 56). Secure and extract both confirmed targets.\\nScout 1 — continue advancing northward. Maintain broad sweep pattern to extend visual range.', 'type': 'order'}], '70': [{'sender_id': 1, 'message': 'No targets detected within current visual range.', 'type': 'info'}, {'sender_id': 3, 'message': 'Scout 1 — continue advancing northward. Maintain sensor sweep; confirm any new contacts.\\nRescuer 2 — after extraction at (72, 56), proceed immediately to (63, 44) for secondary recovery.', 'type': 'order'}], '115': [{'sender_id': 1, 'message': 'Reached western quadrant. No contacts in current visual range. \\n', 'type': 'info'}, {'sender_id': 3, 'message': 'Scout 1 — continue sweep to southwest sector. Maintain visual vigilance.\\nRescuer 2 — hold position after current extraction. Await further instructions.', 'type': 'order'}], '135': [{'sender_id': 3, 'message': 'Scout 1 — redirect course to eastern sector. Initiate sweep from central-east to northeast.\\nRescuer 2 — maintain hold. No change in orders.', 'type': 'order'}], '185': [{'sender_id': 1, 'message': 'Target visually confirmed at (81, 15).', 'type': 'info'}, {'sender_id': 3, 'message': 'Scout 1 — return to base. Recon mission complete.\\nRescuer 2 — proceed to (81, 15). Execute final extraction.', 'type': 'order'}], '235': [{'sender_id': 3, 'message': 'Rescuer 2 — confirm: is final target at (81, 15) secured and extraction complete?\\nScout 1 — maintain return trajectory. Confirm once base is reached.\\nAll units — hold position pending final verification.', 'type': 'order'}], '262': [{'sender_id': 1, 'message': 'Reached base. No incidents. Systems nominal.', 'type': 'info'}, {'sender_id': 3, 'message': 'Rescuer 2  — RTB immediately. All phases complete.\\nScout 1 — maintain base position. Debrief to follow.', 'type': 'order'}], '274': [{'sender_id': 3, 'message': 'Commander has arrived at base. Systems stable.\\nAll units to confirm status and proceed to full consolidation.', 'type': 'info'}]}\n",
      "\n",
      "\n",
      "dict_keys(['role', 'mission', 'messages_from_agents', 'sended_messages', 'positions', 'mission_progress', 'target_in_fov', 'latest_agents_information', 'actions', 'global_strategy', 'local_strategy', 'special_actions'])\n",
      "{'10': [{'sender_id': 1, 'message': 'No targets detected within current visual range.', 'type': 'info'}, {'sender_id': 2, 'message': 'No targets within operational range.', 'type': 'info'}], '40': [{'sender_id': 1, 'message': 'Two targets visually confirmed at (63, 44) and (72, 56).', 'type': 'info'}, {'sender_id': 2, 'message': 'No targets within current visual range.', 'type': 'info'}], '70': [{'sender_id': 1, 'message': 'No targets detected within current visual range.', 'type': 'info'}, {'sender_id': 2, 'message': 'Reached confirmed target at coordinates (72, 56). Extraction initiated.', 'type': 'info'}], '85': [{'sender_id': 1, 'message': 'Northern sector sweep complete.\\nRequest: Awaiting further orders, Commander.\\n\\n', 'type': 'info'}], '115': [{'sender_id': 1, 'message': 'Reached western quadrant. No contacts in current visual range. \\n', 'type': 'info'}, {'sender_id': 2, 'message': 'Arrived at target location (63, 44).', 'type': 'info'}], '135': [{'sender_id': 1, 'message': 'West boundary reached. No contacts.\\nRequest: What are your orders, Commander?', 'type': 'info'}], '185': [{'sender_id': 1, 'message': 'Target visually confirmed at (81, 15).', 'type': 'info'}, {'sender_id': 2, 'message': 'Standing by at last extraction point.', 'type': 'info'}], '262': [{'sender_id': 1, 'message': 'Reached base. No incidents. Systems nominal.', 'type': 'info'}, {'sender_id': 2, 'message': 'Final target at (81, 15) confirmed and secured. Extraction complete.', 'type': 'info'}], '274': [{'sender_id': 2, 'message': 'Final extraction confirmed.', 'type': 'info'}], '353': [{'sender_id': 2, 'message': 'Base reached. Final return confirmed.', 'type': 'info'}]}\n",
      "\n",
      "\n"
     ]
    }
   ],
   "source": [
    "for agent in data['agents'].values():\n",
    "    messages_from_agents = agent['messages_from_agents']\n",
    "    for timestamp, messages in messages_from_agents.items():\n",
    "        print(agent['messages_from_agents'])\n",
    "    print(\"\\n\")\n",
    "    "
   ]
  },
  {
   "cell_type": "code",
   "execution_count": null,
   "id": "98f878a7",
   "metadata": {},
   "outputs": [
    {
     "name": "stdout",
     "output_type": "stream",
     "text": [
      "10 No targets detected within current visual range.\n",
      "10 No targets detected within current visual range.\n",
      "40 Two targets visually confirmed at (63, 44) and (72, 56).\n",
      "40 Two targets visually confirmed at (63, 44) and (72, 56).\n",
      "70 No targets detected within current visual range.\n",
      "70 No targets detected within current visual range.\n",
      "85 Northern sector sweep complete. Request: Awaiting further orders, Commander.  \n",
      "115 Reached western quadrant. No contacts in current visual range.  \n",
      "115 Reached western quadrant. No contacts in current visual range.  \n",
      "135 West boundary reached. No contacts. Request: What are your orders, Commander?\n",
      "185 Target visually confirmed at (81, 15).\n",
      "185 Target visually confirmed at (81, 15).\n",
      "262 Reached base. No incidents. Systems nominal.\n",
      "262 Reached base. No incidents. Systems nominal.\n",
      "10 No targets within operational range.\n",
      "10 No targets within operational range.\n",
      "40 No targets within current visual range.\n",
      "40 No targets within current visual range.\n",
      "70 Reached confirmed target at coordinates (72, 56). Extraction initiated.\n",
      "70 Reached confirmed target at coordinates (72, 56). Extraction initiated.\n",
      "115 Arrived at target location (63, 44).\n",
      "115 Arrived at target location (63, 44).\n",
      "185 Standing by at last extraction point.\n",
      "185 Standing by at last extraction point.\n",
      "262 Final target at (81, 15) confirmed and secured. Extraction complete.\n",
      "262 Final target at (81, 15) confirmed and secured. Extraction complete.\n",
      "274 Final extraction confirmed.\n",
      "353 Base reached. Final return confirmed.\n",
      "353 Base reached. Final return confirmed.\n",
      "10 Scout 1 — redeploy northward. Prioritize systematic visual sweep of northern-central and northeast sectors. Rescuer 2 — maintain current position. Deploy only upon confirmed contact from Scout.\n",
      "10 Scout 1 — redeploy northward. Prioritize systematic visual sweep of northern-central and northeast sectors. Rescuer 2 — maintain current position. Deploy only upon confirmed contact from Scout.\n",
      "40 Rescuer 2 — proceed to coordinates (63, 44) and (72, 56). Secure and extract both confirmed targets. Scout 1 — continue advancing northward. Maintain broad sweep pattern to extend visual range.\n",
      "40 Rescuer 2 — proceed to coordinates (63, 44) and (72, 56). Secure and extract both confirmed targets. Scout 1 — continue advancing northward. Maintain broad sweep pattern to extend visual range.\n",
      "70 Scout 1 — continue advancing northward. Maintain sensor sweep; confirm any new contacts. Rescuer 2 — after extraction at (72, 56), proceed immediately to (63, 44) for secondary recovery.\n",
      "70 Scout 1 — continue advancing northward. Maintain sensor sweep; confirm any new contacts. Rescuer 2 — after extraction at (72, 56), proceed immediately to (63, 44) for secondary recovery.\n",
      "90 Scout 1 — redeploy westward. Sweep western and central-north sectors.\n",
      "115 Scout 1 — continue sweep to southwest sector. Maintain visual vigilance. Rescuer 2 — hold position after current extraction. Await further instructions.\n",
      "115 Scout 1 — continue sweep to southwest sector. Maintain visual vigilance. Rescuer 2 — hold position after current extraction. Await further instructions.\n",
      "135 Scout 1 — redirect course to eastern sector. Initiate sweep from central-east to northeast. Rescuer 2 — maintain hold. No change in orders.\n",
      "135 Scout 1 — redirect course to eastern sector. Initiate sweep from central-east to northeast. Rescuer 2 — maintain hold. No change in orders.\n",
      "185 Scout 1 — return to base. Recon mission complete. Rescuer 2 — proceed to (81, 15). Execute final extraction.\n",
      "185 Scout 1 — return to base. Recon mission complete. Rescuer 2 — proceed to (81, 15). Execute final extraction.\n",
      "235 Rescuer 2 — confirm: is final target at (81, 15) secured and extraction complete? Scout 1 — maintain return trajectory. Confirm once base is reached. All units — hold position pending final verification.\n",
      "235 Rescuer 2 — confirm: is final target at (81, 15) secured and extraction complete? Scout 1 — maintain return trajectory. Confirm once base is reached. All units — hold position pending final verification.\n",
      "262 Rescuer 2  — RTB immediately. All phases complete. Scout 1 — maintain base position. Debrief to follow.\n",
      "262 Rescuer 2  — RTB immediately. All phases complete. Scout 1 — maintain base position. Debrief to follow.\n",
      "274 Commander has arrived at base. Systems stable. All units to confirm status and proceed to full consolidation.\n",
      "274 Commander has arrived at base. Systems stable. All units to confirm status and proceed to full consolidation.\n"
     ]
    }
   ],
   "source": [
    "for agent_id, agent_data in data['agents'].items():\n",
    "    for timestamp, sended_messages in agent_data['sended_messages'].items():\n",
    "        for message_dict in sended_messages:\n",
    "            print(timestamp, message_dict[\"message\"].replace(\"\\n\", \" \"))"
   ]
  }
 ],
 "metadata": {
  "kernelspec": {
   "display_name": "venv",
   "language": "python",
   "name": "python3"
  },
  "language_info": {
   "codemirror_mode": {
    "name": "ipython",
    "version": 3
   },
   "file_extension": ".py",
   "mimetype": "text/x-python",
   "name": "python",
   "nbconvert_exporter": "python",
   "pygments_lexer": "ipython3",
   "version": "3.10.16"
  }
 },
 "nbformat": 4,
 "nbformat_minor": 5
}
