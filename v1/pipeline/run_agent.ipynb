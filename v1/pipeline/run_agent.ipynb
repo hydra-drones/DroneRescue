{
 "cells": [
  {
   "cell_type": "code",
   "execution_count": 7,
   "metadata": {},
   "outputs": [],
   "source": [
    "import os\n",
    "os.chdir('/home/evgenii/work/itmo/DroneRescue')\n",
    "import numpy as np\n",
    "from agent.llm_agent import LLMAgent\n",
    "from environment.environment import Environment\n",
    "from environment.constants import OBSTACLE_MAP, OBJECT_MAP, COLOR_MAP"
   ]
  },
  {
   "cell_type": "code",
   "execution_count": 8,
   "metadata": {},
   "outputs": [],
   "source": [
    "AREA_SIZE = (100, 100)\n",
    "NUM_TARGETS = 3\n",
    "NUM_OBSTACLES = 50\n",
    "OBSERVATION_AREA = (9,9)\n",
    "\n",
    "import os\n",
    "api_key = os.getenv(\"OPENAI_API_KEY\")\n",
    "agent = LLMAgent(area_size=AREA_SIZE, object_map=OBJECT_MAP, observation_area=OBSERVATION_AREA, api_key=api_key, chat_gpt_model=\"gpt-4o-2024-08-06\")"
   ]
  },
  {
   "cell_type": "code",
   "execution_count": 9,
   "metadata": {},
   "outputs": [
    {
     "name": "stdout",
     "output_type": "stream",
     "text": [
      "Step_0: A: 3 S: 5. Explainataion: The current observation shows a clear area with no obstacles or target points immediately around the drone. The drone is at position 4 and is surrounded by background (0) and unvisited areas (3). To efficiently explore the unvisited areas, it's optimal to move in a direction with a higher speed. Moving right seems clear and will explore more unvisited areas. Hence, moving right with a speed of 5 should efficiently cover new ground without hitting obstacles.\n",
      "Step_1: A: 3 S: 5. Explainataion: The drone is on an open path with no immediate obstacles in the observation area. The best approach now is to explore and cover more ground efficiently. Moving to the right is a viable option since the path is clear, and it allows us to explore unvisited areas.\n",
      "Step_2: A: 3 S: 5. Explainataion: The drone is surrounded by open areas in all directions, so it's optimal to explore further. Moving right will allow us to quickly scout unexplored areas and potentially find the target point sooner.\n",
      "Step_3: A: 2 S: 4. Explainataion: The drone is currently facing a wall of obstacles on the right side, as indicated by the '1' values. To avoid collision and continue exploring, the best option is to move left, where there are open spaces '0', ensuring a safe path. A moderate speed of 4 is chosen to efficiently cover distance while maintaining control.\n",
      "Step_4: A: 0 S: 3. Explainataion: The drone is currently surrounded by open space on three sides and an obstacle to the right. Since the obstacle is directly to the right, moving in that direction is not possible without a collision. Moving upwards is safe and allows the drone to explore unvisited areas, as the path upwards is entirely free of obstacles based on the current observation. Hence, the best action is to move up with a speed of 3 to efficiently cover distance while maintaining control.\n",
      "Step_5: A: 2 S: 5. Explainataion: The drone is currently in an open area with a clear path to the left. Moving left will allow us to explore unvisited areas efficiently. Choosing a moderate speed of 5 will balance exploration and control, avoiding nearby obstacles.\n",
      "Step_6: A: 3 S: 9. Explainataion: The drone is in the middle of an open area with no immediate obstacles in the observation grid. Moving right will allow us to explore the unvisited area efficiently.\n",
      "Step_7: A: 0 S: 3. Explainataion: The drone is surrounded by obstacles to the right. To explore more of the unvisited area and avoid collisions, it is safest to move up where there are no immediate obstacles.\n",
      "Step_8: A: 2 S: 4. Explainataion: The drone is currently facing a line of obstacles on its right. To avoid collision and continue exploration, moving left is recommended as it leads to open, unvisited areas while steering clear of the obstacles. A moderate speed is chosen to ensure quick exploration without risking moving too far and potentially missing turns or running into unseen obstacles.\n",
      "Step_9: A: 2 S: 3. Explainataion: The drone is positioned in the center of the observation area. To efficiently explore unvisited areas and avoid obstacles, it's best to move towards the unvisited area on the left (action 2) with a moderate speed of 3. This allows the drone to explore safely without hitting the obstacle on the right.\n"
     ]
    }
   ],
   "source": [
    "agent_position = (0,0)\n",
    "env = Environment(obstacles_map=OBSTACLE_MAP,\n",
    "                color_map=COLOR_MAP,\n",
    "                object_map=OBJECT_MAP,\n",
    "                area_size=AREA_SIZE,\n",
    "                num_targets=NUM_TARGETS,\n",
    "                num_obstacles=NUM_OBSTACLES\n",
    "                )\n",
    "observation_area_of_agent = agent.observation_area\n",
    "new_position, done, observation, obs_binary_mask, metadata = env.step(4, agent_position, observation_area_of_agent, 1)\n",
    "agent_position = new_position\n",
    "env.render_env('./exp_1/environment.jpg')\n",
    "\n",
    "# Update visited map\n",
    "agent.update_visited_map(observation, obs_binary_mask)\n",
    "\n",
    "# Add current agent position to the visited map\n",
    "visited_map_wiht_cut_agent_position = agent.visited_map\n",
    "visited_map_wiht_cut_agent_position[agent_position] = 4 \n",
    "\n",
    "# Add current agent position to the local observation\n",
    "observation_with_cur_agent_position = observation.copy()\n",
    "observation_with_cur_agent_position[metadata[\"agent_position_in_local_observation\"]] = 4 \n",
    "\n",
    "\n",
    "for step in range(10):\n",
    "    # print(visited_map_wiht_cut_agent_position)\n",
    "    response = agent.generate_action_by_model(visited_map_wiht_cut_agent_position, observation_with_cur_agent_position)\n",
    "    action = response[\"action\"]\n",
    "    explaination = response[\"explaination\"]\n",
    "    speed = response[\"speed\"]\n",
    "    print(f\"Step_{step}: A: {action} S: {speed}. Explainataion: {explaination}\")\n",
    "\n",
    "    new_position, done, observation, obs_binary_mask, metadata = env.step(action, agent_position, observation_area_of_agent, speed)\n",
    "    agent_position = new_position\n",
    "\n",
    "    # Update visited map\n",
    "    agent.update_visited_map(observation, obs_binary_mask)\n",
    "\n",
    "    # Add current agent position to the visited map\n",
    "    visited_map_wiht_cut_agent_position = agent.visited_map.copy()\n",
    "    visited_map_wiht_cut_agent_position[agent_position] = 4 \n",
    "\n",
    "    # Add current agent position to the local observation\n",
    "    observation_with_cur_agent_position = observation.copy()\n",
    "    observation_with_cur_agent_position[metadata[\"agent_position_in_local_observation\"]] = 4 \n",
    "\n",
    "    env.render_visited_map(visited_map_wiht_cut_agent_position, f'./exp_1/visited_map_{step}.jpg')\n",
    "    env.render_observation(observation_with_cur_agent_position, f'./exp_1/observation_{step}.jpg')"
   ]
  },
  {
   "cell_type": "code",
   "execution_count": null,
   "metadata": {},
   "outputs": [],
   "source": []
  }
 ],
 "metadata": {
  "kernelspec": {
   "display_name": "venv",
   "language": "python",
   "name": "python3"
  },
  "language_info": {
   "codemirror_mode": {
    "name": "ipython",
    "version": 3
   },
   "file_extension": ".py",
   "mimetype": "text/x-python",
   "name": "python",
   "nbconvert_exporter": "python",
   "pygments_lexer": "ipython3",
   "version": "3.10.12"
  }
 },
 "nbformat": 4,
 "nbformat_minor": 2
}
